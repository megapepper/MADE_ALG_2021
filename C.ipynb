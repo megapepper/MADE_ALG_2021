{
 "cells": [
  {
   "cell_type": "markdown",
   "metadata": {},
   "source": [
    "### C. Турель\n",
    "ограничение по времени на тест 3 секунды  \n",
    "ограничение по памяти на тест 512 мегабайт  \n",
    "\n",
    "Разработчики новой карты для Warface хотят поставить турель, которая будет усложнять игрокам геймплей.\n",
    "\n",
    "Представим карту как клетчатое поле n×m. В некоторых клетках поля находятся препятствия. Препятствия полностью занимают клетку.\n",
    "\n",
    "Турель может стрелять в четырех направлениях: вверх, вниз, вправо или влево. При этом турель не может стрелять через препятствия или находиться в одной клетке с препятствием. Таким образом, областью поражения турели считаются все клетки, в которые она может стрелять, включая ту, в которой она находится. Клетки за пределами поля не считаются. Размер области поражения турели вычисляется, как число клеток в ней.\n",
    "\n",
    "Ваша задача — зная игровое поле, найти размер максимальной возможной области поражения турели.\n",
    "\n",
    "Входные данные\n",
    "В первой строке содержатся два целых числа n и m, размеры игрового поля ($1≤n,m≤2000$).\n",
    "\n",
    "В следующих n строках задано игровое поле. Каждая строка состоит из m символов «.» и «#»:\n",
    "\n",
    "«.» означает, что клетка свободна;\n",
    "«#» означает, что в клетке находится препятствие.\n",
    "Гарантируется, что есть хотя бы одна свободная клетка.\n",
    "Выходные данные\n",
    "Выведите одно число — размер максимальной возможной области поражения турели."
   ]
  },
  {
   "cell_type": "code",
   "execution_count": 1,
   "metadata": {},
   "outputs": [
    {
     "name": "stdout",
     "output_type": "stream",
     "text": [
      "4 6\n",
      "#..#..\n",
      ".....#\n",
      "....#.\n",
      "#.#...\n"
     ]
    }
   ],
   "source": [
    "n, m = map(int, input().split())\n",
    "game_board = [[0 for j in range(m)] for i in range(n)]\n",
    "for i in range(n):\n",
    "    line = input()\n",
    "    game_board[i] = [0 if line[i] == '.' else 1 for i in range(len(line))]"
   ]
  },
  {
   "cell_type": "code",
   "execution_count": 2,
   "metadata": {},
   "outputs": [
    {
     "name": "stdout",
     "output_type": "stream",
     "text": [
      "8\n"
     ]
    }
   ],
   "source": [
    "count_free_point = [[0 for j in range(m)] for i in range(n)] # массив размеров области поражения турели из этой точки\n",
    "# по горизонтали\n",
    "flag = 0\n",
    "beg_ind = 0\n",
    "count = 0\n",
    "for i in range(n):\n",
    "    flag = 0\n",
    "    beg_ind = 0\n",
    "    count = 0\n",
    "    for j in range(m):\n",
    "        if game_board[i][j] == 0:\n",
    "            if flag == 0:\n",
    "                flag = 1\n",
    "                beg_ind = j\n",
    "            count += 1\n",
    "        else:\n",
    "            if flag == 1:\n",
    "                flag = 0\n",
    "                for j0 in range(beg_ind, j):\n",
    "                    count_free_point[i][j0] = count\n",
    "                count = 0\n",
    "            else:\n",
    "                continue\n",
    "        if j == m-1 and flag == 1:\n",
    "            flag = 0\n",
    "            for j0 in range(beg_ind, j+1):\n",
    "                count_free_point[i][j0] = count\n",
    "            count = 0\n",
    "            \n",
    "# по вертикали\n",
    "flag = 0\n",
    "beg_ind = 0\n",
    "count = 0\n",
    "max_count = 0\n",
    "for j in range(m):\n",
    "    flag = 0\n",
    "    beg_ind = 0\n",
    "    count = 0\n",
    "    for i in range(n):\n",
    "        if game_board[i][j] == 0:\n",
    "            if flag == 0:\n",
    "                flag = 1\n",
    "                beg_ind = i\n",
    "            count += 1\n",
    "        else:\n",
    "            if flag == 1:\n",
    "                flag = 0\n",
    "                for i0 in range(beg_ind, i):\n",
    "                    count_free_point[i0][j] += count\n",
    "                    c = count_free_point[i0][j]\n",
    "                    if c > max_count:\n",
    "                        max_count = c\n",
    "                count = 0\n",
    "            else:\n",
    "                continue\n",
    "        if i == n-1 and flag == 1:\n",
    "            flag = 0\n",
    "            for i0 in range(beg_ind, i+1):\n",
    "                count_free_point[i0][j] += count\n",
    "                c = count_free_point[i0][j]\n",
    "                if c > max_count:\n",
    "                    max_count = c\n",
    "            count = 0\n",
    "print(max_count-1)              "
   ]
  },
  {
   "cell_type": "code",
   "execution_count": null,
   "metadata": {},
   "outputs": [],
   "source": []
  }
 ],
 "metadata": {
  "kernelspec": {
   "display_name": "Python 3",
   "language": "python",
   "name": "python3"
  },
  "language_info": {
   "codemirror_mode": {
    "name": "ipython",
    "version": 3
   },
   "file_extension": ".py",
   "mimetype": "text/x-python",
   "name": "python",
   "nbconvert_exporter": "python",
   "pygments_lexer": "ipython3",
   "version": "3.7.1"
  }
 },
 "nbformat": 4,
 "nbformat_minor": 2
}
