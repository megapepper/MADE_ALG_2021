{
 "cells": [
  {
   "cell_type": "markdown",
   "metadata": {},
   "source": [
    "### B. Цветная колонка\n",
    "ограничение по времени на тест 1 секунда  \n",
    "ограничение по памяти на тест 256 мегабайт  \n",
    "\n",
    "Новая версия умной колонки Капсулы с голосовым помощником Марусей будет иметь функцию ночного светильника.\n",
    "\n",
    "Суть функции заключается в том, что Капсула на протяжении k минут каждую минуту меняет цвет. Для того чтобы показываемые цвета были разнообразнее, колонка генерирует последовательность из n цветов, из которой требуется выбрать подотрезок длины k с наибольшим числом различных цветов.\n",
    "\n",
    "Данную задачу предлагается решить вам. Найдите подотрезок последовательности цветов размера k с наибольшим числом различных цветов.\n",
    "\n",
    "Входные данные\n",
    "В первой строке задано два целых числа n и k — размер сгенерированной последовательности цветов и размер необходимого подотрезка ($1≤k≤n≤10^5$).\n",
    "\n",
    "В следующих n строках заданы сгенерированные цвета. Название цвета задается непустой строкой из латинских строчных букв, длина которой не превосходит 20 символов.\n",
    "\n",
    "Выходные данные\n",
    "Выведите одно число — наибольшее число различных цветов на подотрезке размера k."
   ]
  },
  {
   "cell_type": "code",
   "execution_count": 2,
   "metadata": {},
   "outputs": [
    {
     "name": "stdout",
     "output_type": "stream",
     "text": [
      "7 3\n",
      "red\n",
      "yellow\n",
      "red\n",
      "yellow\n",
      "blue\n",
      "blue\n",
      "red\n",
      "3\n"
     ]
    }
   ],
   "source": [
    "'''\n",
    "Беру в рассмотрение первые k строк с цветами. Составляю словарь с количеством строк каждого цвета.\n",
    "Перемещаюсь вниз на одну строку (верхняя выпадает, снизу добавляется новая).\n",
    "Меняю словарь с количеством цветов в соответствии с этими изменениями.\n",
    "Продолжаю смещаться и ловлю максимальный размер словаря (т.е. макс. кол-во разных цветов в текущей последовательности)\n",
    "'''\n",
    "n, k = map(int, input().split())\n",
    "s = ['' for i in range(n)]\n",
    "for i in range(n):\n",
    "    s[i] = input()\n",
    "count_colors = {}\n",
    "for i in s[:k]:\n",
    "    if i not in count_colors:\n",
    "        count_colors[i] = 1\n",
    "    else:\n",
    "        count_colors[i] += 1\n",
    "max_col = len(count_colors.keys())\n",
    "for i in range(n-k):\n",
    "    count_colors[s[i]] -= 1\n",
    "    if count_colors[s[i]] == 0:\n",
    "        del count_colors[s[i]]\n",
    "    if s[k+i] not in count_colors:\n",
    "        count_colors[s[k+i]] = 1\n",
    "    else:\n",
    "        count_colors[s[k+i]] += 1\n",
    "    cur_count_col = len(count_colors.keys())\n",
    "    if cur_count_col > max_col:\n",
    "        max_col = cur_count_col\n",
    "    if max_col == k:\n",
    "        break\n",
    "print(max_col)"
   ]
  }
 ],
 "metadata": {
  "kernelspec": {
   "display_name": "Python 3",
   "language": "python",
   "name": "python3"
  },
  "language_info": {
   "codemirror_mode": {
    "name": "ipython",
    "version": 3
   },
   "file_extension": ".py",
   "mimetype": "text/x-python",
   "name": "python",
   "nbconvert_exporter": "python",
   "pygments_lexer": "ipython3",
   "version": "3.7.1"
  }
 },
 "nbformat": 4,
 "nbformat_minor": 2
}
